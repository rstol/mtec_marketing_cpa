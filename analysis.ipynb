{
 "cells": [
  {
   "cell_type": "code",
   "execution_count": 104,
   "metadata": {},
   "outputs": [
    {
     "name": "stdout",
     "output_type": "stream",
     "text": [
      "   cohort  user  time_year  time_month  subscription  content  genres  \\\n",
      "0       0     0       2017           6             1      4.0     2.0   \n",
      "1       0     0       2017           7             1      7.0     2.0   \n",
      "2       0     1       2017           6             1      5.0     4.0   \n",
      "3       0     1       2017           7             1      9.0     4.0   \n",
      "4       0     2       2017           6             1      7.0     3.0   \n",
      "\n",
      "   recency_new  bounce  \n",
      "0       0.1429  0.2857  \n",
      "1       0.1667  0.2500  \n",
      "2       0.6000  1.0000  \n",
      "3       0.8000  0.5000  \n",
      "4       0.6250  0.6250  \n"
     ]
    },
    {
     "data": {
      "text/html": [
       "<div>\n",
       "<style scoped>\n",
       "    .dataframe tbody tr th:only-of-type {\n",
       "        vertical-align: middle;\n",
       "    }\n",
       "\n",
       "    .dataframe tbody tr th {\n",
       "        vertical-align: top;\n",
       "    }\n",
       "\n",
       "    .dataframe thead th {\n",
       "        text-align: right;\n",
       "    }\n",
       "</style>\n",
       "<table border=\"1\" class=\"dataframe\">\n",
       "  <thead>\n",
       "    <tr style=\"text-align: right;\">\n",
       "      <th></th>\n",
       "      <th>title</th>\n",
       "      <th>recency_new</th>\n",
       "      <th>duration_long</th>\n",
       "      <th>genre_family_comedy</th>\n",
       "      <th>genre_drama</th>\n",
       "      <th>genre_action_adventure</th>\n",
       "      <th>genre_thriller_crime</th>\n",
       "      <th>genre_documentary</th>\n",
       "    </tr>\n",
       "  </thead>\n",
       "  <tbody>\n",
       "    <tr>\n",
       "      <th>0</th>\n",
       "      <td>6 Days</td>\n",
       "      <td>1</td>\n",
       "      <td>1</td>\n",
       "      <td>0</td>\n",
       "      <td>0</td>\n",
       "      <td>0</td>\n",
       "      <td>0</td>\n",
       "      <td>1</td>\n",
       "    </tr>\n",
       "    <tr>\n",
       "      <th>1</th>\n",
       "      <td>8 Mile</td>\n",
       "      <td>0</td>\n",
       "      <td>1</td>\n",
       "      <td>0</td>\n",
       "      <td>1</td>\n",
       "      <td>0</td>\n",
       "      <td>0</td>\n",
       "      <td>0</td>\n",
       "    </tr>\n",
       "    <tr>\n",
       "      <th>2</th>\n",
       "      <td>RuPaul's Drag Race Holi-Slay Spectacular</td>\n",
       "      <td>1</td>\n",
       "      <td>0</td>\n",
       "      <td>1</td>\n",
       "      <td>0</td>\n",
       "      <td>0</td>\n",
       "      <td>0</td>\n",
       "      <td>0</td>\n",
       "    </tr>\n",
       "    <tr>\n",
       "      <th>3</th>\n",
       "      <td>Russia's Toughest Prisons</td>\n",
       "      <td>0</td>\n",
       "      <td>0</td>\n",
       "      <td>0</td>\n",
       "      <td>0</td>\n",
       "      <td>0</td>\n",
       "      <td>0</td>\n",
       "      <td>1</td>\n",
       "    </tr>\n",
       "    <tr>\n",
       "      <th>4</th>\n",
       "      <td>SPF-18</td>\n",
       "      <td>1</td>\n",
       "      <td>0</td>\n",
       "      <td>1</td>\n",
       "      <td>0</td>\n",
       "      <td>0</td>\n",
       "      <td>0</td>\n",
       "      <td>0</td>\n",
       "    </tr>\n",
       "  </tbody>\n",
       "</table>\n",
       "</div>"
      ],
      "text/plain": [
       "                                      title  recency_new  duration_long  \\\n",
       "0                                    6 Days            1              1   \n",
       "1                                    8 Mile            0              1   \n",
       "2  RuPaul's Drag Race Holi-Slay Spectacular            1              0   \n",
       "3                 Russia's Toughest Prisons            0              0   \n",
       "4                                    SPF-18            1              0   \n",
       "\n",
       "   genre_family_comedy  genre_drama  genre_action_adventure  \\\n",
       "0                    0            0                       0   \n",
       "1                    0            1                       0   \n",
       "2                    1            0                       0   \n",
       "3                    0            0                       0   \n",
       "4                    1            0                       0   \n",
       "\n",
       "   genre_thriller_crime  genre_documentary  \n",
       "0                     0                  1  \n",
       "1                     0                  0  \n",
       "2                     0                  0  \n",
       "3                     0                  1  \n",
       "4                     0                  0  "
      ]
     },
     "execution_count": 104,
     "metadata": {},
     "output_type": "execute_result"
    }
   ],
   "source": [
    "from pathlib import Path\n",
    "import pandas as pd\n",
    "import plotly.express as px\n",
    "\n",
    "\n",
    "# Load the data into pandas DataFrame\n",
    "dir_path = Path(\"CPA_Data_IntroductionToMarketing_2024\")\n",
    "clv_data = pd.read_csv(dir_path / \"clv.csv\")\n",
    "filter_user_data = pd.read_csv(dir_path / \"filter_user.csv\")\n",
    "\n",
    "print(clv_data.head())\n",
    "filter_user_data.head()"
   ]
  },
  {
   "cell_type": "code",
   "execution_count": 105,
   "metadata": {},
   "outputs": [
    {
     "name": "stdout",
     "output_type": "stream",
     "text": [
      "(np.int64(6), 2017) (np.int64(5), 2018) 20850\n"
     ]
    }
   ],
   "source": [
    "# 2a\n",
    "start = clv_data[clv_data.time_year == 2017].time_month.min()\n",
    "end = clv_data[clv_data.time_year == 2018].time_month.max()\n",
    "nunique = clv_data[\"user\"].nunique()\n",
    "print((start, 2017), (end, 2018), nunique)"
   ]
  },
  {
   "cell_type": "code",
   "execution_count": null,
   "metadata": {},
   "outputs": [
    {
     "name": "stdout",
     "output_type": "stream",
     "text": [
      "Retention rate time:\n",
      "       time  retention_rate\n",
      "0    6/2017      100.000000\n",
      "1    7/2017       71.645330\n",
      "2    8/2017        9.435752\n",
      "3    9/2017        1.422475\n",
      "4   10/2017        0.711238\n",
      "5   11/2017        0.331911\n",
      "6   12/2017        0.331911\n",
      "7    1/2018        0.237079\n",
      "8    2/2018        0.189663\n",
      "9    3/2018        0.047416\n",
      "10   4/2018        0.047416\n",
      "11   5/2018        0.047416\n",
      "\n",
      "\n"
     ]
    },
    {
     "data": {
      "application/vnd.plotly.v1+json": {
       "config": {
        "plotlyServerURL": "https://plot.ly"
       },
       "data": [
        {
         "hovertemplate": "Time (Month/Year)=%{x}<br>Retention Rate (%)=%{y}<extra></extra>",
         "legendgroup": "",
         "line": {
          "color": "#636efa",
          "dash": "solid"
         },
         "marker": {
          "symbol": "circle"
         },
         "mode": "lines",
         "name": "",
         "orientation": "v",
         "showlegend": false,
         "type": "scatter",
         "x": [
          "6/2017",
          "7/2017",
          "8/2017",
          "9/2017",
          "10/2017",
          "11/2017",
          "12/2017",
          "1/2018",
          "2/2018",
          "3/2018",
          "4/2018",
          "5/2018"
         ],
         "xaxis": "x",
         "y": [
          100,
          71.64532954006638,
          9.4357515410147,
          1.422475106685633,
          0.7112375533428165,
          0.33191085822664773,
          0.33191085822664773,
          0.2370791844476055,
          0.1896633475580844,
          0.0474158368895211,
          0.0474158368895211,
          0.0474158368895211
         ],
         "yaxis": "y"
        }
       ],
       "layout": {
        "legend": {
         "tracegroupgap": 0
        },
        "template": {
         "data": {
          "bar": [
           {
            "error_x": {
             "color": "#2a3f5f"
            },
            "error_y": {
             "color": "#2a3f5f"
            },
            "marker": {
             "line": {
              "color": "#E5ECF6",
              "width": 0.5
             },
             "pattern": {
              "fillmode": "overlay",
              "size": 10,
              "solidity": 0.2
             }
            },
            "type": "bar"
           }
          ],
          "barpolar": [
           {
            "marker": {
             "line": {
              "color": "#E5ECF6",
              "width": 0.5
             },
             "pattern": {
              "fillmode": "overlay",
              "size": 10,
              "solidity": 0.2
             }
            },
            "type": "barpolar"
           }
          ],
          "carpet": [
           {
            "aaxis": {
             "endlinecolor": "#2a3f5f",
             "gridcolor": "white",
             "linecolor": "white",
             "minorgridcolor": "white",
             "startlinecolor": "#2a3f5f"
            },
            "baxis": {
             "endlinecolor": "#2a3f5f",
             "gridcolor": "white",
             "linecolor": "white",
             "minorgridcolor": "white",
             "startlinecolor": "#2a3f5f"
            },
            "type": "carpet"
           }
          ],
          "choropleth": [
           {
            "colorbar": {
             "outlinewidth": 0,
             "ticks": ""
            },
            "type": "choropleth"
           }
          ],
          "contour": [
           {
            "colorbar": {
             "outlinewidth": 0,
             "ticks": ""
            },
            "colorscale": [
             [
              0,
              "#0d0887"
             ],
             [
              0.1111111111111111,
              "#46039f"
             ],
             [
              0.2222222222222222,
              "#7201a8"
             ],
             [
              0.3333333333333333,
              "#9c179e"
             ],
             [
              0.4444444444444444,
              "#bd3786"
             ],
             [
              0.5555555555555556,
              "#d8576b"
             ],
             [
              0.6666666666666666,
              "#ed7953"
             ],
             [
              0.7777777777777778,
              "#fb9f3a"
             ],
             [
              0.8888888888888888,
              "#fdca26"
             ],
             [
              1,
              "#f0f921"
             ]
            ],
            "type": "contour"
           }
          ],
          "contourcarpet": [
           {
            "colorbar": {
             "outlinewidth": 0,
             "ticks": ""
            },
            "type": "contourcarpet"
           }
          ],
          "heatmap": [
           {
            "colorbar": {
             "outlinewidth": 0,
             "ticks": ""
            },
            "colorscale": [
             [
              0,
              "#0d0887"
             ],
             [
              0.1111111111111111,
              "#46039f"
             ],
             [
              0.2222222222222222,
              "#7201a8"
             ],
             [
              0.3333333333333333,
              "#9c179e"
             ],
             [
              0.4444444444444444,
              "#bd3786"
             ],
             [
              0.5555555555555556,
              "#d8576b"
             ],
             [
              0.6666666666666666,
              "#ed7953"
             ],
             [
              0.7777777777777778,
              "#fb9f3a"
             ],
             [
              0.8888888888888888,
              "#fdca26"
             ],
             [
              1,
              "#f0f921"
             ]
            ],
            "type": "heatmap"
           }
          ],
          "heatmapgl": [
           {
            "colorbar": {
             "outlinewidth": 0,
             "ticks": ""
            },
            "colorscale": [
             [
              0,
              "#0d0887"
             ],
             [
              0.1111111111111111,
              "#46039f"
             ],
             [
              0.2222222222222222,
              "#7201a8"
             ],
             [
              0.3333333333333333,
              "#9c179e"
             ],
             [
              0.4444444444444444,
              "#bd3786"
             ],
             [
              0.5555555555555556,
              "#d8576b"
             ],
             [
              0.6666666666666666,
              "#ed7953"
             ],
             [
              0.7777777777777778,
              "#fb9f3a"
             ],
             [
              0.8888888888888888,
              "#fdca26"
             ],
             [
              1,
              "#f0f921"
             ]
            ],
            "type": "heatmapgl"
           }
          ],
          "histogram": [
           {
            "marker": {
             "pattern": {
              "fillmode": "overlay",
              "size": 10,
              "solidity": 0.2
             }
            },
            "type": "histogram"
           }
          ],
          "histogram2d": [
           {
            "colorbar": {
             "outlinewidth": 0,
             "ticks": ""
            },
            "colorscale": [
             [
              0,
              "#0d0887"
             ],
             [
              0.1111111111111111,
              "#46039f"
             ],
             [
              0.2222222222222222,
              "#7201a8"
             ],
             [
              0.3333333333333333,
              "#9c179e"
             ],
             [
              0.4444444444444444,
              "#bd3786"
             ],
             [
              0.5555555555555556,
              "#d8576b"
             ],
             [
              0.6666666666666666,
              "#ed7953"
             ],
             [
              0.7777777777777778,
              "#fb9f3a"
             ],
             [
              0.8888888888888888,
              "#fdca26"
             ],
             [
              1,
              "#f0f921"
             ]
            ],
            "type": "histogram2d"
           }
          ],
          "histogram2dcontour": [
           {
            "colorbar": {
             "outlinewidth": 0,
             "ticks": ""
            },
            "colorscale": [
             [
              0,
              "#0d0887"
             ],
             [
              0.1111111111111111,
              "#46039f"
             ],
             [
              0.2222222222222222,
              "#7201a8"
             ],
             [
              0.3333333333333333,
              "#9c179e"
             ],
             [
              0.4444444444444444,
              "#bd3786"
             ],
             [
              0.5555555555555556,
              "#d8576b"
             ],
             [
              0.6666666666666666,
              "#ed7953"
             ],
             [
              0.7777777777777778,
              "#fb9f3a"
             ],
             [
              0.8888888888888888,
              "#fdca26"
             ],
             [
              1,
              "#f0f921"
             ]
            ],
            "type": "histogram2dcontour"
           }
          ],
          "mesh3d": [
           {
            "colorbar": {
             "outlinewidth": 0,
             "ticks": ""
            },
            "type": "mesh3d"
           }
          ],
          "parcoords": [
           {
            "line": {
             "colorbar": {
              "outlinewidth": 0,
              "ticks": ""
             }
            },
            "type": "parcoords"
           }
          ],
          "pie": [
           {
            "automargin": true,
            "type": "pie"
           }
          ],
          "scatter": [
           {
            "fillpattern": {
             "fillmode": "overlay",
             "size": 10,
             "solidity": 0.2
            },
            "type": "scatter"
           }
          ],
          "scatter3d": [
           {
            "line": {
             "colorbar": {
              "outlinewidth": 0,
              "ticks": ""
             }
            },
            "marker": {
             "colorbar": {
              "outlinewidth": 0,
              "ticks": ""
             }
            },
            "type": "scatter3d"
           }
          ],
          "scattercarpet": [
           {
            "marker": {
             "colorbar": {
              "outlinewidth": 0,
              "ticks": ""
             }
            },
            "type": "scattercarpet"
           }
          ],
          "scattergeo": [
           {
            "marker": {
             "colorbar": {
              "outlinewidth": 0,
              "ticks": ""
             }
            },
            "type": "scattergeo"
           }
          ],
          "scattergl": [
           {
            "marker": {
             "colorbar": {
              "outlinewidth": 0,
              "ticks": ""
             }
            },
            "type": "scattergl"
           }
          ],
          "scattermapbox": [
           {
            "marker": {
             "colorbar": {
              "outlinewidth": 0,
              "ticks": ""
             }
            },
            "type": "scattermapbox"
           }
          ],
          "scatterpolar": [
           {
            "marker": {
             "colorbar": {
              "outlinewidth": 0,
              "ticks": ""
             }
            },
            "type": "scatterpolar"
           }
          ],
          "scatterpolargl": [
           {
            "marker": {
             "colorbar": {
              "outlinewidth": 0,
              "ticks": ""
             }
            },
            "type": "scatterpolargl"
           }
          ],
          "scatterternary": [
           {
            "marker": {
             "colorbar": {
              "outlinewidth": 0,
              "ticks": ""
             }
            },
            "type": "scatterternary"
           }
          ],
          "surface": [
           {
            "colorbar": {
             "outlinewidth": 0,
             "ticks": ""
            },
            "colorscale": [
             [
              0,
              "#0d0887"
             ],
             [
              0.1111111111111111,
              "#46039f"
             ],
             [
              0.2222222222222222,
              "#7201a8"
             ],
             [
              0.3333333333333333,
              "#9c179e"
             ],
             [
              0.4444444444444444,
              "#bd3786"
             ],
             [
              0.5555555555555556,
              "#d8576b"
             ],
             [
              0.6666666666666666,
              "#ed7953"
             ],
             [
              0.7777777777777778,
              "#fb9f3a"
             ],
             [
              0.8888888888888888,
              "#fdca26"
             ],
             [
              1,
              "#f0f921"
             ]
            ],
            "type": "surface"
           }
          ],
          "table": [
           {
            "cells": {
             "fill": {
              "color": "#EBF0F8"
             },
             "line": {
              "color": "white"
             }
            },
            "header": {
             "fill": {
              "color": "#C8D4E3"
             },
             "line": {
              "color": "white"
             }
            },
            "type": "table"
           }
          ]
         },
         "layout": {
          "annotationdefaults": {
           "arrowcolor": "#2a3f5f",
           "arrowhead": 0,
           "arrowwidth": 1
          },
          "autotypenumbers": "strict",
          "coloraxis": {
           "colorbar": {
            "outlinewidth": 0,
            "ticks": ""
           }
          },
          "colorscale": {
           "diverging": [
            [
             0,
             "#8e0152"
            ],
            [
             0.1,
             "#c51b7d"
            ],
            [
             0.2,
             "#de77ae"
            ],
            [
             0.3,
             "#f1b6da"
            ],
            [
             0.4,
             "#fde0ef"
            ],
            [
             0.5,
             "#f7f7f7"
            ],
            [
             0.6,
             "#e6f5d0"
            ],
            [
             0.7,
             "#b8e186"
            ],
            [
             0.8,
             "#7fbc41"
            ],
            [
             0.9,
             "#4d9221"
            ],
            [
             1,
             "#276419"
            ]
           ],
           "sequential": [
            [
             0,
             "#0d0887"
            ],
            [
             0.1111111111111111,
             "#46039f"
            ],
            [
             0.2222222222222222,
             "#7201a8"
            ],
            [
             0.3333333333333333,
             "#9c179e"
            ],
            [
             0.4444444444444444,
             "#bd3786"
            ],
            [
             0.5555555555555556,
             "#d8576b"
            ],
            [
             0.6666666666666666,
             "#ed7953"
            ],
            [
             0.7777777777777778,
             "#fb9f3a"
            ],
            [
             0.8888888888888888,
             "#fdca26"
            ],
            [
             1,
             "#f0f921"
            ]
           ],
           "sequentialminus": [
            [
             0,
             "#0d0887"
            ],
            [
             0.1111111111111111,
             "#46039f"
            ],
            [
             0.2222222222222222,
             "#7201a8"
            ],
            [
             0.3333333333333333,
             "#9c179e"
            ],
            [
             0.4444444444444444,
             "#bd3786"
            ],
            [
             0.5555555555555556,
             "#d8576b"
            ],
            [
             0.6666666666666666,
             "#ed7953"
            ],
            [
             0.7777777777777778,
             "#fb9f3a"
            ],
            [
             0.8888888888888888,
             "#fdca26"
            ],
            [
             1,
             "#f0f921"
            ]
           ]
          },
          "colorway": [
           "#636efa",
           "#EF553B",
           "#00cc96",
           "#ab63fa",
           "#FFA15A",
           "#19d3f3",
           "#FF6692",
           "#B6E880",
           "#FF97FF",
           "#FECB52"
          ],
          "font": {
           "color": "#2a3f5f"
          },
          "geo": {
           "bgcolor": "white",
           "lakecolor": "white",
           "landcolor": "#E5ECF6",
           "showlakes": true,
           "showland": true,
           "subunitcolor": "white"
          },
          "hoverlabel": {
           "align": "left"
          },
          "hovermode": "closest",
          "mapbox": {
           "style": "light"
          },
          "paper_bgcolor": "white",
          "plot_bgcolor": "#E5ECF6",
          "polar": {
           "angularaxis": {
            "gridcolor": "white",
            "linecolor": "white",
            "ticks": ""
           },
           "bgcolor": "#E5ECF6",
           "radialaxis": {
            "gridcolor": "white",
            "linecolor": "white",
            "ticks": ""
           }
          },
          "scene": {
           "xaxis": {
            "backgroundcolor": "#E5ECF6",
            "gridcolor": "white",
            "gridwidth": 2,
            "linecolor": "white",
            "showbackground": true,
            "ticks": "",
            "zerolinecolor": "white"
           },
           "yaxis": {
            "backgroundcolor": "#E5ECF6",
            "gridcolor": "white",
            "gridwidth": 2,
            "linecolor": "white",
            "showbackground": true,
            "ticks": "",
            "zerolinecolor": "white"
           },
           "zaxis": {
            "backgroundcolor": "#E5ECF6",
            "gridcolor": "white",
            "gridwidth": 2,
            "linecolor": "white",
            "showbackground": true,
            "ticks": "",
            "zerolinecolor": "white"
           }
          },
          "shapedefaults": {
           "line": {
            "color": "#2a3f5f"
           }
          },
          "ternary": {
           "aaxis": {
            "gridcolor": "white",
            "linecolor": "white",
            "ticks": ""
           },
           "baxis": {
            "gridcolor": "white",
            "linecolor": "white",
            "ticks": ""
           },
           "bgcolor": "#E5ECF6",
           "caxis": {
            "gridcolor": "white",
            "linecolor": "white",
            "ticks": ""
           }
          },
          "title": {
           "x": 0.05
          },
          "xaxis": {
           "automargin": true,
           "gridcolor": "white",
           "linecolor": "white",
           "ticks": "",
           "title": {
            "standoff": 15
           },
           "zerolinecolor": "white",
           "zerolinewidth": 2
          },
          "yaxis": {
           "automargin": true,
           "gridcolor": "white",
           "linecolor": "white",
           "ticks": "",
           "title": {
            "standoff": 15
           },
           "zerolinecolor": "white",
           "zerolinewidth": 2
          }
         }
        },
        "title": {
         "text": "Retention Rate over Time"
        },
        "xaxis": {
         "anchor": "y",
         "domain": [
          0,
          1
         ],
         "title": {
          "text": "Time (Month/Year)"
         }
        },
        "yaxis": {
         "anchor": "x",
         "domain": [
          0,
          1
         ],
         "title": {
          "text": "Retention Rate (%)"
         }
        }
       }
      }
     },
     "metadata": {},
     "output_type": "display_data"
    },
    {
     "name": "stdout",
     "output_type": "stream",
     "text": [
      "Average retention rate of cohort 0: 15.370633791686418\n"
     ]
    }
   ],
   "source": [
    "# 3a\n",
    "def calculate_cohort_retention_rate(clv_data, cohort):\n",
    "    # Filter data for the specified cohort and make a copy to remove slice errors in 3f\n",
    "    clv_data_cohort = clv_data[clv_data['cohort'] == cohort].copy()\n",
    "    initial_cohort_size = clv_data_cohort['user'].nunique()\n",
    "\n",
    "    # Calculate active users per month for this cohort\n",
    "    active_users_per_month = clv_data_cohort.groupby(\n",
    "        ['time_year', 'time_month'], as_index=False\n",
    "    )['user'].nunique().copy()\n",
    "\n",
    "    # Create 'time' column in active_users_per_month using .loc\n",
    "    active_users_per_month.loc[:, 'time'] = (\n",
    "        active_users_per_month[['time_month', 'time_year']]\n",
    "        .astype(str)\n",
    "        .agg('/'.join, axis=1)\n",
    "    )\n",
    "\n",
    "    # Create 'date' column in clv_data_cohort using .loc (same method as 3f)\n",
    "    clv_data_cohort.loc[:, 'date'] = pd.to_datetime(\n",
    "        clv_data_cohort['time_year'].astype(str) + '-' + clv_data_cohort['time_month'].astype(str) + '-01'\n",
    "    )\n",
    "\n",
    "    # Ensure 'date' column is only added once to clv_data\n",
    "    if 'date' not in clv_data.columns:\n",
    "        clv_data = clv_data.copy()\n",
    "        clv_data.loc[:, 'date'] = pd.to_datetime(\n",
    "            clv_data['time_year'].astype(str) + '-' + clv_data['time_month'].astype(str) + '-01'\n",
    "        )\n",
    "\n",
    "    # Determine acquisition date and last date\n",
    "    acquisition_date = clv_data_cohort['date'].min()\n",
    "    last_date = clv_data['date'].max()\n",
    "\n",
    "    # Create all_months_df\n",
    "    all_months = pd.date_range(start=acquisition_date, end=last_date, freq='MS')\n",
    "    all_months_df = pd.DataFrame({'date': all_months})\n",
    "    all_months_df['time_year'] = all_months_df['date'].dt.year\n",
    "    all_months_df['time_month'] = all_months_df['date'].dt.month\n",
    "    all_months_df['time'] = (\n",
    "        all_months_df['time_month'].astype(str) + '/' + all_months_df['time_year'].astype(str)\n",
    "    )\n",
    "\n",
    "    # Merge with active_users_per_month to include zeros and make a copy (slicing errors again)\n",
    "    retention_rate_time = pd.merge(\n",
    "        all_months_df[['time', 'time_year', 'time_month']],\n",
    "        active_users_per_month[['time_year', 'time_month', 'time', 'user']],\n",
    "        on=['time_year', 'time_month', 'time'],\n",
    "        how='left'\n",
    "    ).copy()\n",
    "\n",
    "    # Fill NaN values in 'user' with zero using .loc\n",
    "    retention_rate_time.loc[:, 'user'] = retention_rate_time['user'].fillna(0)\n",
    "\n",
    "    # Calculate retention rate using .loc\n",
    "    retention_rate_time.loc[:, 'retention_rate'] = (\n",
    "        retention_rate_time['user'] / initial_cohort_size\n",
    "    ) * 100\n",
    "\n",
    "    # Keep only 'time' and 'retention_rate' columns\n",
    "    retention_rate_time = retention_rate_time[['time', 'retention_rate']]\n",
    "\n",
    "    return retention_rate_time\n",
    "\n",
    "\n",
    "\n",
    "retention_rate_time_0 = calculate_cohort_retention_rate(clv_data, 0)\n",
    "print(\"Retention rate time:\\n\" + str(retention_rate_time_0) + \"\\n\\n\")\n",
    "\n",
    "\n",
    "# 3b\n",
    "def draw_retention_rate_time(retention_rate_time):\n",
    "    fig = px.line(\n",
    "        x=retention_rate_time[\"time\"],\n",
    "        y=retention_rate_time[\"retention_rate\"],\n",
    "        labels={\"x\": \"Time (Month/Year)\", \"y\": \"Retention Rate (%)\"},\n",
    "        title=\"Retention Rate over Time\",\n",
    "    )\n",
    "    fig.show()\n",
    "    retention_rate_time\n",
    "\n",
    "draw_retention_rate_time(retention_rate_time_0)\n",
    "\n",
    "# 3c\n",
    "avg_retention_rate = retention_rate_time_0[\"retention_rate\"].mean()\n",
    "print(\"Average retention rate of cohort 0: \" + str(avg_retention_rate))\n"
   ]
  },
  {
   "cell_type": "markdown",
   "metadata": {},
   "source": [
    "3d. \n",
    "\n",
    "Industry Benchmarks\n",
    "Netflix and other major Subscription Video On Demand (SVOD) platforms typically report much higher retention rates. Industry data suggests:\n",
    "1. Monthly Retention Rates: SVOD platforms like Netflix often have monthly retention rates exceeding 90%.\n",
    "2. Monthly Churn Rates: Reported churn rates are generally low, often around 2% to 5% per month, implying retention rates of 95% to 98%. \n",
    "\n",
    "Comparing our calculated retention rates with industry benchmarks:\n",
    "\n",
    "Our Retention Rates:\n",
    "\n",
    "- Sharp decline from 100% to 71.65% in the first month.\n",
    "- Further drop to 9.44% in the second month.\n",
    "- Retention rates fall below 1% after a few months.\n",
    "\n",
    "\n",
    "Industry Benchmarks:\n",
    "\n",
    "- Retention rates remain above 90% month over month.\n",
    "- Churn rates are low, indicating that most users continue their subscriptions.\n",
    "\n",
    "Several reasons may cause this discrepancy between our results and industry benchmarks:\n",
    "\n",
    "1. Data Limitations\n",
    "\n",
    "    i. Inability to Track All User Activity:\n",
    "\n",
    "    The data only captures user activity on desktop and laptops.\n",
    "    Users who switch to other devices (e.g., mobile phones, tablets, smart TVs) are not tracked and are considered as churned in our dataset.\n",
    "\n",
    "    ii. Subscription Variable:\n",
    "\n",
    "    The subscription variable is always 1 in the dataset, as we cannot observe if a user cancels their subscription.\n",
    "    We define churn as users who stop watching Netflix on desktop or laptop, which may not reflect actual cancellations.\n",
    "\n",
    "2. Overestimation of Churn\n",
    "\n",
    "    i. Device Switching:\n",
    "\n",
    "    Users may simply change devices rather than cancel their subscriptions.\n",
    "    Given the popularity of mobile and smart TV usage for streaming, many users may migrate away from desktops.\n",
    "\n",
    "    ii. Misclassification of Active Users:\n",
    "\n",
    "    Users who are inactive on desktop/laptop but active on other devices are misclassified as churned.\n",
    "\n",
    "3. Data Collection Period and Sample\n",
    "\n",
    "    i. Sample Representation:\n",
    "\n",
    "    The dataset may not be representative of the entire Netflix user base.\n",
    "    It may focus on a specific segment with different usage patterns.\n",
    "\n",
    "    ii. Time Frame:\n",
    "\n",
    "    The data covers a specific 12-month period, which may not capture long-term retention behaviors.\n",
    "\n",
    "4. User Behavior Patterns\n",
    "\n",
    "    i. Desktop Usage Decline:\n",
    "\n",
    "    There has been a general trend towards increased mobile and connected TV usage for streaming. Desktop streaming may show higher churn due to this shift.\n",
    "\n",
    "    ii. Content Consumption Habits:\n",
    "\n",
    "    Users might use desktops for initial sign-ups or trials and then switch to other devices.\n",
    "\n"
   ]
  },
  {
   "cell_type": "code",
   "execution_count": 107,
   "metadata": {},
   "outputs": [
    {
     "name": "stdout",
     "output_type": "stream",
     "text": [
      "Monthly retention rate for cohort 0:\n",
      "0     100.000000\n",
      "1      71.645330\n",
      "2       9.435752\n",
      "3       1.422475\n",
      "4       0.711238\n",
      "5       0.331911\n",
      "6       0.331911\n",
      "7       0.237079\n",
      "8       0.189663\n",
      "9       0.047416\n",
      "10      0.047416\n",
      "11      0.047416\n",
      "Name: retention_rate, dtype: float64\n",
      "Average retention rate for cohort 0 is 15.370633791686418\n",
      "\n",
      "Monthly retention rate for cohort 1:\n",
      "0     100.00\n",
      "1      54.56\n",
      "2      17.28\n",
      "3       2.32\n",
      "4       0.88\n",
      "5       0.56\n",
      "6       0.24\n",
      "7       0.16\n",
      "8       0.00\n",
      "9       0.00\n",
      "10      0.00\n",
      "Name: retention_rate, dtype: float64\n",
      "Average retention rate for cohort 1 is 16.0\n",
      "\n",
      "Monthly retention rate for cohort 2:\n",
      "0    100.000000\n",
      "1     52.515546\n",
      "2      4.126625\n",
      "3      1.130582\n",
      "4      0.395704\n",
      "5      0.226116\n",
      "6      0.169587\n",
      "7      0.113058\n",
      "8      0.056529\n",
      "9      0.000000\n",
      "Name: retention_rate, dtype: float64\n",
      "Average retention rate for cohort 2 is 15.873374788015829\n",
      "\n",
      "Monthly retention rate for cohort 3:\n",
      "0    100.000000\n",
      "1     44.559585\n",
      "2      5.551443\n",
      "3      1.998520\n",
      "4      1.332346\n",
      "5      0.592154\n",
      "6      0.444115\n",
      "7      0.296077\n",
      "8      0.222058\n",
      "Name: retention_rate, dtype: float64\n",
      "Average retention rate for cohort 3 is 17.221811004194425\n",
      "\n",
      "Monthly retention rate for cohort 4:\n",
      "0    100.000000\n",
      "1     43.997702\n",
      "2     17.059161\n",
      "3      1.091327\n",
      "4      0.516944\n",
      "5      0.344630\n",
      "6      0.287191\n",
      "7      0.114877\n",
      "Name: retention_rate, dtype: float64\n",
      "Average retention rate for cohort 4 is 20.42647903503733\n",
      "\n",
      "Monthly retention rate for cohort 5:\n",
      "0    100.000000\n",
      "1     64.916201\n",
      "2      3.798883\n",
      "3      1.340782\n",
      "4      0.502793\n",
      "5      0.446927\n",
      "6      0.335196\n",
      "Name: retention_rate, dtype: float64\n",
      "Average retention rate for cohort 5 is 24.477254588986433\n",
      "\n",
      "Monthly retention rate for cohort 6:\n",
      "0    100.000000\n",
      "1     73.294723\n",
      "2      8.494208\n",
      "3      1.222651\n",
      "4      0.579151\n",
      "5      0.257400\n",
      "Name: retention_rate, dtype: float64\n",
      "Average retention rate for cohort 6 is 30.641355641355645\n",
      "\n",
      "Monthly retention rate for cohort 7:\n",
      "0    100.000000\n",
      "1     58.435583\n",
      "2      4.601227\n",
      "3      1.993865\n",
      "4      1.022495\n",
      "Name: retention_rate, dtype: float64\n",
      "Average retention rate for cohort 7 is 33.210633946830264\n",
      "\n",
      "Monthly retention rate for cohort 8:\n",
      "0    100.000000\n",
      "1     70.276833\n",
      "2      7.527926\n",
      "3      1.214182\n",
      "Name: retention_rate, dtype: float64\n",
      "Average retention rate for cohort 8 is 44.75473530840214\n",
      "\n",
      "Monthly retention rate for cohort 9:\n",
      "0    100.000000\n",
      "1     46.261090\n",
      "2      3.422053\n",
      "Name: retention_rate, dtype: float64\n",
      "Average retention rate for cohort 9 is 49.894381073088304\n",
      "\n",
      "Monthly retention rate for cohort 10:\n",
      "0    100.000000\n",
      "1     54.482759\n",
      "Name: retention_rate, dtype: float64\n",
      "Average retention rate for cohort 10 is 77.24137931034483\n",
      "\n",
      "Monthly retention rate for cohort 11:\n",
      "0    100.0\n",
      "Name: retention_rate, dtype: float64\n",
      "Average retention rate for cohort 11 is 100.0\n",
      "\n",
      "Average Retention Rate Across Cohorts:\n"
     ]
    },
    {
     "data": {
      "text/html": [
       "<div>\n",
       "<style scoped>\n",
       "    .dataframe tbody tr th:only-of-type {\n",
       "        vertical-align: middle;\n",
       "    }\n",
       "\n",
       "    .dataframe tbody tr th {\n",
       "        vertical-align: top;\n",
       "    }\n",
       "\n",
       "    .dataframe thead th {\n",
       "        text-align: right;\n",
       "    }\n",
       "</style>\n",
       "<table border=\"1\" class=\"dataframe\">\n",
       "  <thead>\n",
       "    <tr style=\"text-align: right;\">\n",
       "      <th></th>\n",
       "      <th>month_since_acquisition</th>\n",
       "      <th>retention_rate</th>\n",
       "    </tr>\n",
       "  </thead>\n",
       "  <tbody>\n",
       "    <tr>\n",
       "      <th>0</th>\n",
       "      <td>0</td>\n",
       "      <td>100.000000</td>\n",
       "    </tr>\n",
       "    <tr>\n",
       "      <th>1</th>\n",
       "      <td>1</td>\n",
       "      <td>57.722305</td>\n",
       "    </tr>\n",
       "    <tr>\n",
       "      <th>2</th>\n",
       "      <td>2</td>\n",
       "      <td>8.129728</td>\n",
       "    </tr>\n",
       "    <tr>\n",
       "      <th>3</th>\n",
       "      <td>3</td>\n",
       "      <td>1.526043</td>\n",
       "    </tr>\n",
       "    <tr>\n",
       "      <th>4</th>\n",
       "      <td>4</td>\n",
       "      <td>0.742584</td>\n",
       "    </tr>\n",
       "    <tr>\n",
       "      <th>5</th>\n",
       "      <td>5</td>\n",
       "      <td>0.394163</td>\n",
       "    </tr>\n",
       "    <tr>\n",
       "      <th>6</th>\n",
       "      <td>6</td>\n",
       "      <td>0.301333</td>\n",
       "    </tr>\n",
       "    <tr>\n",
       "      <th>7</th>\n",
       "      <td>7</td>\n",
       "      <td>0.184218</td>\n",
       "    </tr>\n",
       "    <tr>\n",
       "      <th>8</th>\n",
       "      <td>8</td>\n",
       "      <td>0.156083</td>\n",
       "    </tr>\n",
       "    <tr>\n",
       "      <th>9</th>\n",
       "      <td>9</td>\n",
       "      <td>0.047416</td>\n",
       "    </tr>\n",
       "    <tr>\n",
       "      <th>10</th>\n",
       "      <td>10</td>\n",
       "      <td>0.047416</td>\n",
       "    </tr>\n",
       "    <tr>\n",
       "      <th>11</th>\n",
       "      <td>11</td>\n",
       "      <td>0.047416</td>\n",
       "    </tr>\n",
       "  </tbody>\n",
       "</table>\n",
       "</div>"
      ],
      "text/plain": [
       "    month_since_acquisition  retention_rate\n",
       "0                         0      100.000000\n",
       "1                         1       57.722305\n",
       "2                         2        8.129728\n",
       "3                         3        1.526043\n",
       "4                         4        0.742584\n",
       "5                         5        0.394163\n",
       "6                         6        0.301333\n",
       "7                         7        0.184218\n",
       "8                         8        0.156083\n",
       "9                         9        0.047416\n",
       "10                       10        0.047416\n",
       "11                       11        0.047416"
      ]
     },
     "metadata": {},
     "output_type": "display_data"
    },
    {
     "name": "stdout",
     "output_type": "stream",
     "text": [
      "\n",
      "Average Retention Rate per Cohort:\n"
     ]
    },
    {
     "data": {
      "text/html": [
       "<div>\n",
       "<style scoped>\n",
       "    .dataframe tbody tr th:only-of-type {\n",
       "        vertical-align: middle;\n",
       "    }\n",
       "\n",
       "    .dataframe tbody tr th {\n",
       "        vertical-align: top;\n",
       "    }\n",
       "\n",
       "    .dataframe thead th {\n",
       "        text-align: right;\n",
       "    }\n",
       "</style>\n",
       "<table border=\"1\" class=\"dataframe\">\n",
       "  <thead>\n",
       "    <tr style=\"text-align: right;\">\n",
       "      <th></th>\n",
       "      <th>cohort</th>\n",
       "      <th>retention_rate</th>\n",
       "    </tr>\n",
       "  </thead>\n",
       "  <tbody>\n",
       "    <tr>\n",
       "      <th>0</th>\n",
       "      <td>0</td>\n",
       "      <td>15.370634</td>\n",
       "    </tr>\n",
       "    <tr>\n",
       "      <th>1</th>\n",
       "      <td>1</td>\n",
       "      <td>22.000000</td>\n",
       "    </tr>\n",
       "    <tr>\n",
       "      <th>2</th>\n",
       "      <td>2</td>\n",
       "      <td>17.637083</td>\n",
       "    </tr>\n",
       "    <tr>\n",
       "      <th>3</th>\n",
       "      <td>3</td>\n",
       "      <td>17.221811</td>\n",
       "    </tr>\n",
       "    <tr>\n",
       "      <th>4</th>\n",
       "      <td>4</td>\n",
       "      <td>20.426479</td>\n",
       "    </tr>\n",
       "    <tr>\n",
       "      <th>5</th>\n",
       "      <td>5</td>\n",
       "      <td>24.477255</td>\n",
       "    </tr>\n",
       "    <tr>\n",
       "      <th>6</th>\n",
       "      <td>6</td>\n",
       "      <td>30.641356</td>\n",
       "    </tr>\n",
       "    <tr>\n",
       "      <th>7</th>\n",
       "      <td>7</td>\n",
       "      <td>33.210634</td>\n",
       "    </tr>\n",
       "    <tr>\n",
       "      <th>8</th>\n",
       "      <td>8</td>\n",
       "      <td>44.754735</td>\n",
       "    </tr>\n",
       "    <tr>\n",
       "      <th>9</th>\n",
       "      <td>9</td>\n",
       "      <td>49.894381</td>\n",
       "    </tr>\n",
       "    <tr>\n",
       "      <th>10</th>\n",
       "      <td>10</td>\n",
       "      <td>77.241379</td>\n",
       "    </tr>\n",
       "    <tr>\n",
       "      <th>11</th>\n",
       "      <td>11</td>\n",
       "      <td>100.000000</td>\n",
       "    </tr>\n",
       "  </tbody>\n",
       "</table>\n",
       "</div>"
      ],
      "text/plain": [
       "    cohort  retention_rate\n",
       "0        0       15.370634\n",
       "1        1       22.000000\n",
       "2        2       17.637083\n",
       "3        3       17.221811\n",
       "4        4       20.426479\n",
       "5        5       24.477255\n",
       "6        6       30.641356\n",
       "7        7       33.210634\n",
       "8        8       44.754735\n",
       "9        9       49.894381\n",
       "10      10       77.241379\n",
       "11      11      100.000000"
      ]
     },
     "metadata": {},
     "output_type": "display_data"
    },
    {
     "name": "stdout",
     "output_type": "stream",
     "text": [
      "Overall Average Retention Rate Across Months: 14.11%\n",
      "\n",
      "The third cohort (Cohort 2) has the highest average monthly retention rate: FALSE\n"
     ]
    }
   ],
   "source": [
    "# # 3e\n",
    "for i in range(0, 12):\n",
    "    retention_rate_time_i = calculate_cohort_retention_rate(clv_data, i)\n",
    "    print(f\"Monthly retention rate for cohort {i}:\\n{retention_rate_time_i['retention_rate']}\")\n",
    "    print(f\"Average retention rate for cohort {i} is {retention_rate_time_i['retention_rate'].mean()}\\n\")\n",
    "\n",
    "# # 3f\n",
    "# Ensure 'time_year' and 'time_month' are integers\n",
    "clv_data['time_year'] = clv_data['time_year'].astype(int)\n",
    "clv_data['time_month'] = clv_data['time_month'].astype(int)\n",
    "\n",
    "# Create 'date' column & convert the string into Pandas datetime object for later calculations\n",
    "clv_data['date'] = pd.to_datetime(clv_data['time_year'].astype(str) + '-' + clv_data['time_month'].astype(str) + '-01')\n",
    "\n",
    "# Find the earliest date, to use as reference point\n",
    "min_date = clv_data['date'].min()\n",
    "\n",
    "# Calculate 'month_index' as the number of months since 'min_date', * 12 for converting year difference into months, and + month difference\n",
    "clv_data['month_index'] = (clv_data['date'].dt.year - min_date.year) * 12 + (clv_data['date'].dt.month - min_date.month)\n",
    "\n",
    "# Calculate 'cohort_month_index' for each cohort , month_index.min is essentially acquisition month , reset index converts back into dataframe , rename to cohort month index for clarity in the new dataframe\n",
    "cohort_month_index = clv_data.groupby('cohort')['month_index'].min().reset_index().rename(columns={'month_index': 'cohort_month_index'})\n",
    "\n",
    "# Merge cohort month index back into clv_data , using cohort as the key , left join to keep all rows in clv_data \n",
    "clv_data = clv_data.merge(cohort_month_index, on='cohort', how='left')\n",
    "\n",
    "# Calculate 'month_since_acquisition' using new cohort_month_index column\n",
    "clv_data['month_since_acquisition'] = clv_data['month_index'] - clv_data['cohort_month_index']\n",
    "\n",
    "# Define the function to calculate retention rates\n",
    "def calculate_monthly_cohort_retention_rate(clv_data, cohort):\n",
    "    # Filter data for the specified cohort\n",
    "    cohort_data = clv_data[clv_data['cohort'] == cohort]\n",
    "\n",
    "    # Initial number of users in cohort\n",
    "    initial_users = cohort_data['user'].nunique()\n",
    "\n",
    "    # Calculate active users per 'month_since_acquisition'\n",
    "    users_per_month = cohort_data.groupby('month_since_acquisition')['user'].nunique().reset_index()\n",
    "\n",
    "    # Calculate retention rate\n",
    "    users_per_month['retention_rate'] = (users_per_month['user'] / initial_users) * 100\n",
    "\n",
    "    # Add 'cohort' information\n",
    "    users_per_month['cohort'] = cohort\n",
    "\n",
    "    return users_per_month[['cohort', 'month_since_acquisition', 'retention_rate']]\n",
    "\n",
    "# Initialise empty list to store DataFrames\n",
    "retention_list = []\n",
    "\n",
    "# Loop through each cohort and calculate retention rates\n",
    "for cohort in clv_data['cohort'].unique():\n",
    "    cohort_retention = calculate_monthly_cohort_retention_rate(clv_data, cohort)\n",
    "    retention_list.append(cohort_retention)\n",
    "\n",
    "# Combine all cohorts into a single DataFrame\n",
    "retention_data = pd.concat(retention_list, ignore_index=True)\n",
    "\n",
    "# Calculate average retention rate across cohorts\n",
    "average_retention = retention_data.groupby('month_since_acquisition')['retention_rate'].mean().reset_index()\n",
    "\n",
    "# Sort by 'month_since_acquisition'\n",
    "average_retention = average_retention.sort_values('month_since_acquisition')\n",
    "\n",
    "# Display the average retention rates\n",
    "print(\"Average Retention Rate Across Cohorts:\")\n",
    "display(average_retention)\n",
    "\n",
    "\n",
    "#3g\n",
    "# Calculate the average retention rate per cohort\n",
    "average_retention_per_cohort = retention_data.groupby('cohort')['retention_rate'].mean().reset_index()\n",
    "\n",
    "# Display the average retention rates per cohort\n",
    "print(\"\\nAverage Retention Rate per Cohort:\")\n",
    "display(average_retention_per_cohort)\n",
    "\n",
    "# Calculate the overall average retention rate across months\n",
    "overall_average_retention_rate = average_retention['retention_rate'].mean()\n",
    "print(f\"Overall Average Retention Rate Across Months: {overall_average_retention_rate:.2f}%\")\n",
    "# Calculate the average retention rate per cohort\n",
    "average_retention_per_cohort = retention_data.groupby('cohort')['retention_rate'].mean().reset_index()\n",
    "# Sort by retention_rate in descending order\n",
    "average_retention_per_cohort = average_retention_per_cohort.sort_values(by='retention_rate', ascending=False)\n",
    "\n",
    "# Check if the third cohort has the highest retention rate\n",
    "highest_retention_cohort = average_retention_per_cohort.iloc[0]['cohort']\n",
    "\n",
    "if highest_retention_cohort == 2:\n",
    "    print(\"\\nThe third cohort (Cohort 2) has the highest average monthly retention rate: TRUE\")\n",
    "else:\n",
    "    print(\"\\nThe third cohort (Cohort 2) has the highest average monthly retention rate: FALSE\")"
   ]
  },
  {
   "cell_type": "markdown",
   "metadata": {},
   "source": [
    "3h. \n",
    "\n",
    "Cohort-Specific Analysis (3a, 3b and 3c) - Analyses retention rates for each cohort individually, tracking how users acquired in the same period behave over time. Best when:\n",
    "1. You want to understand how retention varies by the month of acquisition\n",
    "2. Your goal is to identify factors that affect specific cohorts\n",
    "3. You are aiming to tailor retention strategies to different user groups\n",
    "\n",
    "This can be useful when you want to, for example, determine effects of a specific marketing campaign, or pinpoint cohorts with particularly low retention. It also can be useful for developing strategies that address the unique needs of each cohort.\n",
    "\n",
    "Aggregated Analysis (3f and 3g) - Combines data from all cohorts to calculate overall retention rates, providing a macro-level view. It is is best when:\n",
    "1. You need a general overview of retention trends\n",
    "2. You are focusing on overall business performance, rather than cohort differences\n",
    "3. You need a benchmark to assess how effective different retention initiatives are\n",
    "\n",
    "This can be particularly useful when you want to compare overall retention trends to industry benchmarks, or decide where to invest resources for maximum effect.\n",
    "\n",
    "You can leverage both approaches, by first using an aggregated analysis to establish a baseline and identify general patterns. After that, you can use a cohort-specific analysis to go more granular in discovering insights and tailor your strategies accordingly. An approach like this will allow you to maximise the strengths of both approaches, and also allow for a much better understanding of customer retention.\n"
   ]
  },
  {
   "cell_type": "code",
   "execution_count": 108,
   "metadata": {},
   "outputs": [
    {
     "data": {
      "text/html": [
       "<div>\n",
       "<style scoped>\n",
       "    .dataframe tbody tr th:only-of-type {\n",
       "        vertical-align: middle;\n",
       "    }\n",
       "\n",
       "    .dataframe tbody tr th {\n",
       "        vertical-align: top;\n",
       "    }\n",
       "\n",
       "    .dataframe thead th {\n",
       "        text-align: right;\n",
       "    }\n",
       "</style>\n",
       "<table border=\"1\" class=\"dataframe\">\n",
       "  <thead>\n",
       "    <tr style=\"text-align: right;\">\n",
       "      <th></th>\n",
       "      <th>title</th>\n",
       "      <th>recency_new</th>\n",
       "      <th>duration_long</th>\n",
       "      <th>genre_family_comedy</th>\n",
       "      <th>genre_drama</th>\n",
       "      <th>genre_action_adventure</th>\n",
       "      <th>genre_thriller_crime</th>\n",
       "      <th>genre_documentary</th>\n",
       "    </tr>\n",
       "  </thead>\n",
       "  <tbody>\n",
       "    <tr>\n",
       "      <th>0</th>\n",
       "      <td>6 Days</td>\n",
       "      <td>1</td>\n",
       "      <td>1</td>\n",
       "      <td>0</td>\n",
       "      <td>0</td>\n",
       "      <td>0</td>\n",
       "      <td>0</td>\n",
       "      <td>1</td>\n",
       "    </tr>\n",
       "    <tr>\n",
       "      <th>1</th>\n",
       "      <td>8 Mile</td>\n",
       "      <td>0</td>\n",
       "      <td>1</td>\n",
       "      <td>0</td>\n",
       "      <td>1</td>\n",
       "      <td>0</td>\n",
       "      <td>0</td>\n",
       "      <td>0</td>\n",
       "    </tr>\n",
       "    <tr>\n",
       "      <th>2</th>\n",
       "      <td>RuPaul's Drag Race Holi-Slay Spectacular</td>\n",
       "      <td>1</td>\n",
       "      <td>0</td>\n",
       "      <td>1</td>\n",
       "      <td>0</td>\n",
       "      <td>0</td>\n",
       "      <td>0</td>\n",
       "      <td>0</td>\n",
       "    </tr>\n",
       "    <tr>\n",
       "      <th>3</th>\n",
       "      <td>Russia's Toughest Prisons</td>\n",
       "      <td>0</td>\n",
       "      <td>0</td>\n",
       "      <td>0</td>\n",
       "      <td>0</td>\n",
       "      <td>0</td>\n",
       "      <td>0</td>\n",
       "      <td>1</td>\n",
       "    </tr>\n",
       "    <tr>\n",
       "      <th>4</th>\n",
       "      <td>SPF-18</td>\n",
       "      <td>1</td>\n",
       "      <td>0</td>\n",
       "      <td>1</td>\n",
       "      <td>0</td>\n",
       "      <td>0</td>\n",
       "      <td>0</td>\n",
       "      <td>0</td>\n",
       "    </tr>\n",
       "  </tbody>\n",
       "</table>\n",
       "</div>"
      ],
      "text/plain": [
       "                                      title  recency_new  duration_long  \\\n",
       "0                                    6 Days            1              1   \n",
       "1                                    8 Mile            0              1   \n",
       "2  RuPaul's Drag Race Holi-Slay Spectacular            1              0   \n",
       "3                 Russia's Toughest Prisons            0              0   \n",
       "4                                    SPF-18            1              0   \n",
       "\n",
       "   genre_family_comedy  genre_drama  genre_action_adventure  \\\n",
       "0                    0            0                       0   \n",
       "1                    0            1                       0   \n",
       "2                    1            0                       0   \n",
       "3                    0            0                       0   \n",
       "4                    1            0                       0   \n",
       "\n",
       "   genre_thriller_crime  genre_documentary  \n",
       "0                     0                  1  \n",
       "1                     0                  0  \n",
       "2                     0                  0  \n",
       "3                     0                  1  \n",
       "4                     0                  0  "
      ]
     },
     "execution_count": 108,
     "metadata": {},
     "output_type": "execute_result"
    }
   ],
   "source": [
    "# 8\n",
    "filter_user_data.head()"
   ]
  },
  {
   "cell_type": "code",
   "execution_count": 109,
   "metadata": {},
   "outputs": [
    {
     "data": {
      "text/html": [
       "<div>\n",
       "<style scoped>\n",
       "    .dataframe tbody tr th:only-of-type {\n",
       "        vertical-align: middle;\n",
       "    }\n",
       "\n",
       "    .dataframe tbody tr th {\n",
       "        vertical-align: top;\n",
       "    }\n",
       "\n",
       "    .dataframe thead th {\n",
       "        text-align: right;\n",
       "    }\n",
       "</style>\n",
       "<table border=\"1\" class=\"dataframe\">\n",
       "  <thead>\n",
       "    <tr style=\"text-align: right;\">\n",
       "      <th></th>\n",
       "      <th>recency_new</th>\n",
       "      <th>duration_long</th>\n",
       "      <th>counts</th>\n",
       "      <th>streaming frequency</th>\n",
       "      <th>genre</th>\n",
       "    </tr>\n",
       "  </thead>\n",
       "  <tbody>\n",
       "    <tr>\n",
       "      <th>4</th>\n",
       "      <td>0</td>\n",
       "      <td>1</td>\n",
       "      <td>5</td>\n",
       "      <td>0.25</td>\n",
       "      <td>family_comedy</td>\n",
       "    </tr>\n",
       "    <tr>\n",
       "      <th>2</th>\n",
       "      <td>0</td>\n",
       "      <td>1</td>\n",
       "      <td>2</td>\n",
       "      <td>0.10</td>\n",
       "      <td>family_comedy</td>\n",
       "    </tr>\n",
       "    <tr>\n",
       "      <th>6</th>\n",
       "      <td>1</td>\n",
       "      <td>0</td>\n",
       "      <td>2</td>\n",
       "      <td>0.10</td>\n",
       "      <td>family_comedy</td>\n",
       "    </tr>\n",
       "    <tr>\n",
       "      <th>10</th>\n",
       "      <td>1</td>\n",
       "      <td>1</td>\n",
       "      <td>2</td>\n",
       "      <td>0.10</td>\n",
       "      <td>family_comedy</td>\n",
       "    </tr>\n",
       "    <tr>\n",
       "      <th>11</th>\n",
       "      <td>1</td>\n",
       "      <td>1</td>\n",
       "      <td>2</td>\n",
       "      <td>0.10</td>\n",
       "      <td>drama</td>\n",
       "    </tr>\n",
       "    <tr>\n",
       "      <th>0</th>\n",
       "      <td>0</td>\n",
       "      <td>0</td>\n",
       "      <td>1</td>\n",
       "      <td>0.05</td>\n",
       "      <td>documentary</td>\n",
       "    </tr>\n",
       "    <tr>\n",
       "      <th>1</th>\n",
       "      <td>0</td>\n",
       "      <td>0</td>\n",
       "      <td>1</td>\n",
       "      <td>0.05</td>\n",
       "      <td>drama</td>\n",
       "    </tr>\n",
       "    <tr>\n",
       "      <th>3</th>\n",
       "      <td>0</td>\n",
       "      <td>1</td>\n",
       "      <td>1</td>\n",
       "      <td>0.05</td>\n",
       "      <td>documentary</td>\n",
       "    </tr>\n",
       "    <tr>\n",
       "      <th>5</th>\n",
       "      <td>1</td>\n",
       "      <td>0</td>\n",
       "      <td>1</td>\n",
       "      <td>0.05</td>\n",
       "      <td>family_comedy</td>\n",
       "    </tr>\n",
       "    <tr>\n",
       "      <th>7</th>\n",
       "      <td>1</td>\n",
       "      <td>1</td>\n",
       "      <td>1</td>\n",
       "      <td>0.05</td>\n",
       "      <td>family_comedy</td>\n",
       "    </tr>\n",
       "    <tr>\n",
       "      <th>8</th>\n",
       "      <td>1</td>\n",
       "      <td>1</td>\n",
       "      <td>1</td>\n",
       "      <td>0.05</td>\n",
       "      <td>action_adventure</td>\n",
       "    </tr>\n",
       "    <tr>\n",
       "      <th>9</th>\n",
       "      <td>1</td>\n",
       "      <td>1</td>\n",
       "      <td>1</td>\n",
       "      <td>0.05</td>\n",
       "      <td>action_adventure</td>\n",
       "    </tr>\n",
       "  </tbody>\n",
       "</table>\n",
       "</div>"
      ],
      "text/plain": [
       "    recency_new  duration_long  counts  streaming frequency             genre\n",
       "4             0              1       5                 0.25     family_comedy\n",
       "2             0              1       2                 0.10     family_comedy\n",
       "6             1              0       2                 0.10     family_comedy\n",
       "10            1              1       2                 0.10     family_comedy\n",
       "11            1              1       2                 0.10             drama\n",
       "0             0              0       1                 0.05       documentary\n",
       "1             0              0       1                 0.05             drama\n",
       "3             0              1       1                 0.05       documentary\n",
       "5             1              0       1                 0.05     family_comedy\n",
       "7             1              1       1                 0.05     family_comedy\n",
       "8             1              1       1                 0.05  action_adventure\n",
       "9             1              1       1                 0.05  action_adventure"
      ]
     },
     "execution_count": 109,
     "metadata": {},
     "output_type": "execute_result"
    }
   ],
   "source": [
    "# 8c\n",
    "genre_columns = [\n",
    "    \"genre_family_comedy\",\n",
    "    \"genre_drama\",\n",
    "    \"genre_action_adventure\",\n",
    "    \"genre_thriller_crime\",\n",
    "    \"genre_documentary\",\n",
    "]\n",
    "\n",
    "attributes = [\"recency_new\", \"duration_long\"] + genre_columns\n",
    "conjoint_attribute_level_counts = (\n",
    "    filter_user_data.groupby(attributes, as_index=False)\n",
    "    .size()\n",
    "    .sort_values(by=[\"size\"], ascending=False)\n",
    "    .rename(columns={\"size\": \"counts\"})\n",
    ")\n",
    "total_count = conjoint_attribute_level_counts.counts.sum()\n",
    "conjoint_attribute_level_counts[\"streaming frequency\"] = (\n",
    "    conjoint_attribute_level_counts.counts / total_count\n",
    ")\n",
    "\n",
    "conjoint_attribute_level_counts[\"genre\"] = (\n",
    "    filter_user_data[genre_columns].idxmax(axis=1).str.replace(\"genre_\", \"\")\n",
    ")\n",
    "conjoint_attribute_level_counts.drop(columns=genre_columns)\n",
    "# Note all other attribute levels have frequency 0"
   ]
  },
  {
   "cell_type": "markdown",
   "metadata": {},
   "source": []
  },
  {
   "cell_type": "code",
   "execution_count": null,
   "metadata": {},
   "outputs": [],
   "source": []
  },
  {
   "cell_type": "code",
   "execution_count": 110,
   "metadata": {},
   "outputs": [
    {
     "name": "stdout",
     "output_type": "stream",
     "text": [
      "                             OLS Regression Results                            \n",
      "===============================================================================\n",
      "Dep. Variable:     streaming frequency   R-squared:                       0.519\n",
      "Model:                             OLS   Adj. R-squared:                 -0.058\n",
      "Method:                  Least Squares   F-statistic:                    0.8997\n",
      "Date:                 Thu, 14 Nov 2024   Prob (F-statistic):              0.558\n",
      "Time:                         11:56:47   Log-Likelihood:                 22.111\n",
      "No. Observations:                   12   AIC:                            -30.22\n",
      "Df Residuals:                        5   BIC:                            -26.83\n",
      "Df Model:                            6                                         \n",
      "Covariance Type:             nonrobust                                         \n",
      "==========================================================================================\n",
      "                             coef    std err          t      P>|t|      [0.025      0.975]\n",
      "------------------------------------------------------------------------------------------\n",
      "recency_new               -0.0316      0.039     -0.820      0.450      -0.131       0.067\n",
      "duration_long              0.0579      0.043      1.344      0.237      -0.053       0.169\n",
      "genre_family_comedy        0.1118      0.039      2.858      0.035       0.011       0.212\n",
      "genre_drama                0.0329      0.060      0.547      0.608      -0.122       0.188\n",
      "genre_action_adventure     0.0329      0.060      0.547      0.608      -0.122       0.188\n",
      "genre_thriller_crime       0.0526      0.058      0.911      0.404      -0.096       0.201\n",
      "genre_documentary          0.0368      0.049      0.750      0.487      -0.089       0.163\n",
      "==============================================================================\n",
      "Omnibus:                        0.457   Durbin-Watson:                   1.577\n",
      "Prob(Omnibus):                  0.796   Jarque-Bera (JB):                0.350\n",
      "Skew:                           0.344   Prob(JB):                        0.840\n",
      "Kurtosis:                       2.525   Cond. No.                         6.00\n",
      "==============================================================================\n",
      "\n",
      "Notes:\n",
      "[1] Standard Errors assume that the covariance matrix of the errors is correctly specified.\n",
      "Part-Worths:\n",
      " recency_new              -0.031579\n",
      "duration_long             0.057895\n",
      "genre_family_comedy       0.111842\n",
      "genre_drama               0.032895\n",
      "genre_action_adventure    0.032895\n",
      "genre_thriller_crime      0.052632\n",
      "genre_documentary         0.036842\n",
      "dtype: float64\n",
      "\n",
      "Relative Importance [%]:\n",
      " {'recency_new': np.float64(18.75000000000003), 'duration_long': np.float64(34.374999999999986), 'genre': np.float64(46.875)}\n"
     ]
    },
    {
     "name": "stderr",
     "output_type": "stream",
     "text": [
      "/Users/bendawson/Documents/ETH/Herbstmodule Sem 1/Introduction to Marketing/mtec_marketing_cpa/.venv/lib/python3.13/site-packages/scipy/stats/_axis_nan_policy.py:418: UserWarning:\n",
      "\n",
      "`kurtosistest` p-value may be inaccurate with fewer than 20 observations; only n=12 observations were given.\n",
      "\n"
     ]
    }
   ],
   "source": [
    "import statsmodels.api as sm\n",
    "\n",
    "# Independent variables\n",
    "X = conjoint_attribute_level_counts[attributes]\n",
    "# Dependend variable\n",
    "y = conjoint_attribute_level_counts[\"streaming frequency\"]\n",
    "\n",
    "# Add a constant to the model (intercept)\n",
    "# X = sm.add_constant(X)\n",
    "\n",
    "# Perform linear regression\n",
    "model = sm.OLS(y, X).fit()\n",
    "\n",
    "# Display the regression results\n",
    "print(model.summary())\n",
    "\n",
    "# Extract the part-worths (coefficients)\n",
    "part_worths = model.params\n",
    "ranges = {\n",
    "    \"recency_new\": abs(part_worths[\"recency_new\"]),\n",
    "    \"duration_long\": abs(part_worths[\"duration_long\"]),\n",
    "    \"genre\": abs(part_worths[genre_columns].max() - part_worths[genre_columns].min()),\n",
    "}\n",
    "\n",
    "total_range = sum(ranges.values())\n",
    "\n",
    "relative_importance = {\n",
    "    key: (value / total_range) * 100 for key, value in ranges.items()\n",
    "}\n",
    "\n",
    "print(\"Part-Worths:\\n\", part_worths)\n",
    "print(\"\\nRelative Importance [%]:\\n\", relative_importance)"
   ]
  },
  {
   "cell_type": "code",
   "execution_count": null,
   "metadata": {},
   "outputs": [],
   "source": []
  }
 ],
 "metadata": {
  "kernelspec": {
   "display_name": "Python (marketing)",
   "language": "python",
   "name": "marketing"
  },
  "language_info": {
   "codemirror_mode": {
    "name": "ipython",
    "version": 3
   },
   "file_extension": ".py",
   "mimetype": "text/x-python",
   "name": "python",
   "nbconvert_exporter": "python",
   "pygments_lexer": "ipython3",
   "version": "3.13.0"
  }
 },
 "nbformat": 4,
 "nbformat_minor": 2
}
